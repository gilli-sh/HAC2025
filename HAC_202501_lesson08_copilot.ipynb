{
 "cells": [
  {
   "metadata": {},
   "cell_type": "markdown",
   "source": [
    "# Lesson 8 - Code writing with AI\n",
    "In this lesson we will get data on Israel top 60 cities population and draw it on a map.\n",
    "The data from: https://simplemaps.com/data/il-cities and save it as a GoogleSheet, is downloaded to File: il.csv\n"
   ],
   "id": "bf8c276c65c21203"
  },
  {
   "metadata": {
    "ExecuteTime": {
     "end_time": "2025-01-06T08:49:16.286001Z",
     "start_time": "2025-01-06T08:49:16.278627Z"
    }
   },
   "cell_type": "code",
   "source": [
    "# Read the file il.csv to a DataFrame\n",
    "import pandas as pd\n",
    "df = pd.read_csv('il.csv')\n",
    "df.head()\n"
   ],
   "id": "b62bf46d7edb26fb",
   "outputs": [
    {
     "data": {
      "text/plain": [
       "              city      lat      lng country iso2 admin_name  capital  \\\n",
       "0    Tel Aviv-Yafo  32.0800  34.7800  Israel   IL   Tel Aviv    admin   \n",
       "1        Jerusalem  31.7789  35.2256  Israel   IL  Jerusalem  primary   \n",
       "2            Haifa  32.8192  34.9992  Israel   IL      Haifa    admin   \n",
       "3  Rishon LeẔiyyon  31.9500  34.8000  Israel   IL    Central      NaN   \n",
       "4      Petaẖ Tiqwa  32.0889  34.8864  Israel   IL    Central      NaN   \n",
       "\n",
       "   population  population_proper  \n",
       "0   1388400.0           460613.0  \n",
       "1    936425.0           936425.0  \n",
       "2    600000.0           282831.0  \n",
       "3    249860.0           249860.0  \n",
       "4    236169.0           236169.0  "
      ],
      "text/html": [
       "<div>\n",
       "<style scoped>\n",
       "    .dataframe tbody tr th:only-of-type {\n",
       "        vertical-align: middle;\n",
       "    }\n",
       "\n",
       "    .dataframe tbody tr th {\n",
       "        vertical-align: top;\n",
       "    }\n",
       "\n",
       "    .dataframe thead th {\n",
       "        text-align: right;\n",
       "    }\n",
       "</style>\n",
       "<table border=\"1\" class=\"dataframe\">\n",
       "  <thead>\n",
       "    <tr style=\"text-align: right;\">\n",
       "      <th></th>\n",
       "      <th>city</th>\n",
       "      <th>lat</th>\n",
       "      <th>lng</th>\n",
       "      <th>country</th>\n",
       "      <th>iso2</th>\n",
       "      <th>admin_name</th>\n",
       "      <th>capital</th>\n",
       "      <th>population</th>\n",
       "      <th>population_proper</th>\n",
       "    </tr>\n",
       "  </thead>\n",
       "  <tbody>\n",
       "    <tr>\n",
       "      <th>0</th>\n",
       "      <td>Tel Aviv-Yafo</td>\n",
       "      <td>32.0800</td>\n",
       "      <td>34.7800</td>\n",
       "      <td>Israel</td>\n",
       "      <td>IL</td>\n",
       "      <td>Tel Aviv</td>\n",
       "      <td>admin</td>\n",
       "      <td>1388400.0</td>\n",
       "      <td>460613.0</td>\n",
       "    </tr>\n",
       "    <tr>\n",
       "      <th>1</th>\n",
       "      <td>Jerusalem</td>\n",
       "      <td>31.7789</td>\n",
       "      <td>35.2256</td>\n",
       "      <td>Israel</td>\n",
       "      <td>IL</td>\n",
       "      <td>Jerusalem</td>\n",
       "      <td>primary</td>\n",
       "      <td>936425.0</td>\n",
       "      <td>936425.0</td>\n",
       "    </tr>\n",
       "    <tr>\n",
       "      <th>2</th>\n",
       "      <td>Haifa</td>\n",
       "      <td>32.8192</td>\n",
       "      <td>34.9992</td>\n",
       "      <td>Israel</td>\n",
       "      <td>IL</td>\n",
       "      <td>Haifa</td>\n",
       "      <td>admin</td>\n",
       "      <td>600000.0</td>\n",
       "      <td>282831.0</td>\n",
       "    </tr>\n",
       "    <tr>\n",
       "      <th>3</th>\n",
       "      <td>Rishon LeẔiyyon</td>\n",
       "      <td>31.9500</td>\n",
       "      <td>34.8000</td>\n",
       "      <td>Israel</td>\n",
       "      <td>IL</td>\n",
       "      <td>Central</td>\n",
       "      <td>NaN</td>\n",
       "      <td>249860.0</td>\n",
       "      <td>249860.0</td>\n",
       "    </tr>\n",
       "    <tr>\n",
       "      <th>4</th>\n",
       "      <td>Petaẖ Tiqwa</td>\n",
       "      <td>32.0889</td>\n",
       "      <td>34.8864</td>\n",
       "      <td>Israel</td>\n",
       "      <td>IL</td>\n",
       "      <td>Central</td>\n",
       "      <td>NaN</td>\n",
       "      <td>236169.0</td>\n",
       "      <td>236169.0</td>\n",
       "    </tr>\n",
       "  </tbody>\n",
       "</table>\n",
       "</div>"
      ]
     },
     "execution_count": 8,
     "metadata": {},
     "output_type": "execute_result"
    }
   ],
   "execution_count": 8
  },
  {
   "metadata": {
    "ExecuteTime": {
     "end_time": "2025-01-06T08:49:19.915376Z",
     "start_time": "2025-01-06T08:49:19.910111Z"
    }
   },
   "cell_type": "code",
   "source": [
    "# Display the data types of the columns\n",
    "df.dtypes\n"
   ],
   "id": "970ed82466f22eac",
   "outputs": [
    {
     "data": {
      "text/plain": [
       "city                  object\n",
       "lat                  float64\n",
       "lng                  float64\n",
       "country               object\n",
       "iso2                  object\n",
       "admin_name            object\n",
       "capital               object\n",
       "population           float64\n",
       "population_proper    float64\n",
       "dtype: object"
      ]
     },
     "execution_count": 9,
     "metadata": {},
     "output_type": "execute_result"
    }
   ],
   "execution_count": 9
  },
  {
   "metadata": {
    "ExecuteTime": {
     "end_time": "2025-01-06T08:49:24.720457Z",
     "start_time": "2025-01-06T08:49:24.715407Z"
    }
   },
   "cell_type": "code",
   "source": [
    "# Data wrangling\n",
    "df['lat'] = df['lat'].astype(float)\n",
    "df['lng'] = df['lng'].astype(float)\n",
    "df.dtypes\n"
   ],
   "id": "8cdab25054bb1091",
   "outputs": [
    {
     "data": {
      "text/plain": [
       "city                  object\n",
       "lat                  float64\n",
       "lng                  float64\n",
       "country               object\n",
       "iso2                  object\n",
       "admin_name            object\n",
       "capital               object\n",
       "population           float64\n",
       "population_proper    float64\n",
       "dtype: object"
      ]
     },
     "execution_count": 10,
     "metadata": {},
     "output_type": "execute_result"
    }
   ],
   "execution_count": 10
  },
  {
   "metadata": {
    "ExecuteTime": {
     "end_time": "2025-01-06T08:49:28.193392Z",
     "start_time": "2025-01-06T08:49:28.189092Z"
    }
   },
   "cell_type": "code",
   "source": [
    "# Check for missing values\n",
    "df.isnull().sum()\n"
   ],
   "id": "6bea3ecbc4578998",
   "outputs": [
    {
     "data": {
      "text/plain": [
       "city                  0\n",
       "lat                   0\n",
       "lng                   0\n",
       "country               0\n",
       "iso2                  0\n",
       "admin_name            0\n",
       "capital              51\n",
       "population            3\n",
       "population_proper     3\n",
       "dtype: int64"
      ]
     },
     "execution_count": 11,
     "metadata": {},
     "output_type": "execute_result"
    }
   ],
   "execution_count": 11
  },
  {
   "metadata": {
    "ExecuteTime": {
     "end_time": "2025-01-06T08:50:48.373203Z",
     "start_time": "2025-01-06T08:50:48.368609Z"
    }
   },
   "cell_type": "code",
   "source": [
    "# Handle missing values\n",
    "# drop column: capital\n",
    "df = df.drop('capital', axis=1)\n",
    "# drop rows with missing values\n",
    "df = df.dropna()\n",
    "df.isnull().sum()\n",
    "\n",
    "    "
   ],
   "id": "793f38ff0806f885",
   "outputs": [
    {
     "data": {
      "text/plain": [
       "city                 0\n",
       "lat                  0\n",
       "lng                  0\n",
       "country              0\n",
       "iso2                 0\n",
       "admin_name           0\n",
       "population           0\n",
       "population_proper    0\n",
       "dtype: int64"
      ]
     },
     "execution_count": 12,
     "metadata": {},
     "output_type": "execute_result"
    }
   ],
   "execution_count": 12
  },
  {
   "metadata": {
    "ExecuteTime": {
     "end_time": "2025-01-06T08:50:53.823569Z",
     "start_time": "2025-01-06T08:50:53.801007Z"
    }
   },
   "cell_type": "code",
   "source": [
    "# Map the cities each with a circle size according to the population\n",
    "import folium\n",
    "m = folium.Map(location=[31.5, 34.9], zoom_start=8)\n",
    "for i in range(len(df)):\n",
    "    folium.Circle(\n",
    "        location=[df.iloc[i]['lat'], df.iloc[i]['lng']],\n",
    "        radius=df.iloc[i]['population']/1000,\n",
    "        color='crimson',\n",
    "        fill=True,\n",
    "        fill_color='crimson'\n",
    "    ).add_to(m)\n",
    "m\n",
    "\n",
    "\n",
    "    \n"
   ],
   "id": "61c9689c8b0df057",
   "outputs": [
    {
     "data": {
      "text/plain": [
       "<folium.folium.Map at 0x10dea3620>"
      ],
      "text/html": [
       "<div style=\"width:100%;\"><div style=\"position:relative;width:100%;height:0;padding-bottom:60%;\"><span style=\"color:#565656\">Make this Notebook Trusted to load map: File -> Trust Notebook</span><iframe srcdoc=\"&lt;!DOCTYPE html&gt;\n",
       "&lt;html&gt;\n",
       "&lt;head&gt;\n",
       "    \n",
       "    &lt;meta http-equiv=&quot;content-type&quot; content=&quot;text/html; charset=UTF-8&quot; /&gt;\n",
       "    \n",
       "        &lt;script&gt;\n",
       "            L_NO_TOUCH = false;\n",
       "            L_DISABLE_3D = false;\n",
       "        &lt;/script&gt;\n",
       "    \n",
       "    &lt;style&gt;html, body {width: 100%;height: 100%;margin: 0;padding: 0;}&lt;/style&gt;\n",
       "    &lt;style&gt;#map {position:absolute;top:0;bottom:0;right:0;left:0;}&lt;/style&gt;\n",
       "    &lt;script src=&quot;https://cdn.jsdelivr.net/npm/leaflet@1.9.3/dist/leaflet.js&quot;&gt;&lt;/script&gt;\n",
       "    &lt;script src=&quot;https://code.jquery.com/jquery-3.7.1.min.js&quot;&gt;&lt;/script&gt;\n",
       "    &lt;script src=&quot;https://cdn.jsdelivr.net/npm/bootstrap@5.2.2/dist/js/bootstrap.bundle.min.js&quot;&gt;&lt;/script&gt;\n",
       "    &lt;script src=&quot;https://cdnjs.cloudflare.com/ajax/libs/Leaflet.awesome-markers/2.0.2/leaflet.awesome-markers.js&quot;&gt;&lt;/script&gt;\n",
       "    &lt;link rel=&quot;stylesheet&quot; href=&quot;https://cdn.jsdelivr.net/npm/leaflet@1.9.3/dist/leaflet.css&quot;/&gt;\n",
       "    &lt;link rel=&quot;stylesheet&quot; href=&quot;https://cdn.jsdelivr.net/npm/bootstrap@5.2.2/dist/css/bootstrap.min.css&quot;/&gt;\n",
       "    &lt;link rel=&quot;stylesheet&quot; href=&quot;https://netdna.bootstrapcdn.com/bootstrap/3.0.0/css/bootstrap-glyphicons.css&quot;/&gt;\n",
       "    &lt;link rel=&quot;stylesheet&quot; href=&quot;https://cdn.jsdelivr.net/npm/@fortawesome/fontawesome-free@6.2.0/css/all.min.css&quot;/&gt;\n",
       "    &lt;link rel=&quot;stylesheet&quot; href=&quot;https://cdnjs.cloudflare.com/ajax/libs/Leaflet.awesome-markers/2.0.2/leaflet.awesome-markers.css&quot;/&gt;\n",
       "    &lt;link rel=&quot;stylesheet&quot; href=&quot;https://cdn.jsdelivr.net/gh/python-visualization/folium/folium/templates/leaflet.awesome.rotate.min.css&quot;/&gt;\n",
       "    \n",
       "            &lt;meta name=&quot;viewport&quot; content=&quot;width=device-width,\n",
       "                initial-scale=1.0, maximum-scale=1.0, user-scalable=no&quot; /&gt;\n",
       "            &lt;style&gt;\n",
       "                #map_2b304aaf65e6c33449d6ad0ddbfaa178 {\n",
       "                    position: relative;\n",
       "                    width: 100.0%;\n",
       "                    height: 100.0%;\n",
       "                    left: 0.0%;\n",
       "                    top: 0.0%;\n",
       "                }\n",
       "                .leaflet-container { font-size: 1rem; }\n",
       "            &lt;/style&gt;\n",
       "        \n",
       "&lt;/head&gt;\n",
       "&lt;body&gt;\n",
       "    \n",
       "    \n",
       "            &lt;div class=&quot;folium-map&quot; id=&quot;map_2b304aaf65e6c33449d6ad0ddbfaa178&quot; &gt;&lt;/div&gt;\n",
       "        \n",
       "&lt;/body&gt;\n",
       "&lt;script&gt;\n",
       "    \n",
       "    \n",
       "            var map_2b304aaf65e6c33449d6ad0ddbfaa178 = L.map(\n",
       "                &quot;map_2b304aaf65e6c33449d6ad0ddbfaa178&quot;,\n",
       "                {\n",
       "                    center: [31.5, 34.9],\n",
       "                    crs: L.CRS.EPSG3857,\n",
       "                    ...{\n",
       "  &quot;zoom&quot;: 8,\n",
       "  &quot;zoomControl&quot;: true,\n",
       "  &quot;preferCanvas&quot;: false,\n",
       "}\n",
       "\n",
       "                }\n",
       "            );\n",
       "\n",
       "            \n",
       "\n",
       "        \n",
       "    \n",
       "            var tile_layer_ec4e9572015bc5c6c0cabb9608556ea2 = L.tileLayer(\n",
       "                &quot;https://tile.openstreetmap.org/{z}/{x}/{y}.png&quot;,\n",
       "                {\n",
       "  &quot;minZoom&quot;: 0,\n",
       "  &quot;maxZoom&quot;: 19,\n",
       "  &quot;maxNativeZoom&quot;: 19,\n",
       "  &quot;noWrap&quot;: false,\n",
       "  &quot;attribution&quot;: &quot;\\u0026copy; \\u003ca href=\\&quot;https://www.openstreetmap.org/copyright\\&quot;\\u003eOpenStreetMap\\u003c/a\\u003e contributors&quot;,\n",
       "  &quot;subdomains&quot;: &quot;abc&quot;,\n",
       "  &quot;detectRetina&quot;: false,\n",
       "  &quot;tms&quot;: false,\n",
       "  &quot;opacity&quot;: 1,\n",
       "}\n",
       "\n",
       "            );\n",
       "        \n",
       "    \n",
       "            tile_layer_ec4e9572015bc5c6c0cabb9608556ea2.addTo(map_2b304aaf65e6c33449d6ad0ddbfaa178);\n",
       "        \n",
       "    \n",
       "            var circle_6981476e27dd6769c875b4c63a3ef70c = L.circle(\n",
       "                [32.08, 34.78],\n",
       "                {&quot;bubblingMouseEvents&quot;: true, &quot;color&quot;: &quot;crimson&quot;, &quot;dashArray&quot;: null, &quot;dashOffset&quot;: null, &quot;fill&quot;: true, &quot;fillColor&quot;: &quot;crimson&quot;, &quot;fillOpacity&quot;: 0.2, &quot;fillRule&quot;: &quot;evenodd&quot;, &quot;lineCap&quot;: &quot;round&quot;, &quot;lineJoin&quot;: &quot;round&quot;, &quot;opacity&quot;: 1.0, &quot;radius&quot;: 1388.4, &quot;stroke&quot;: true, &quot;weight&quot;: 3}\n",
       "            ).addTo(map_2b304aaf65e6c33449d6ad0ddbfaa178);\n",
       "        \n",
       "    \n",
       "            var circle_d6ba1679b3f1c8521ffdb6aaa6fc1da7 = L.circle(\n",
       "                [31.7789, 35.2256],\n",
       "                {&quot;bubblingMouseEvents&quot;: true, &quot;color&quot;: &quot;crimson&quot;, &quot;dashArray&quot;: null, &quot;dashOffset&quot;: null, &quot;fill&quot;: true, &quot;fillColor&quot;: &quot;crimson&quot;, &quot;fillOpacity&quot;: 0.2, &quot;fillRule&quot;: &quot;evenodd&quot;, &quot;lineCap&quot;: &quot;round&quot;, &quot;lineJoin&quot;: &quot;round&quot;, &quot;opacity&quot;: 1.0, &quot;radius&quot;: 936.425, &quot;stroke&quot;: true, &quot;weight&quot;: 3}\n",
       "            ).addTo(map_2b304aaf65e6c33449d6ad0ddbfaa178);\n",
       "        \n",
       "    \n",
       "            var circle_21152f57108b8ca372abd80b45d2269d = L.circle(\n",
       "                [32.8192, 34.9992],\n",
       "                {&quot;bubblingMouseEvents&quot;: true, &quot;color&quot;: &quot;crimson&quot;, &quot;dashArray&quot;: null, &quot;dashOffset&quot;: null, &quot;fill&quot;: true, &quot;fillColor&quot;: &quot;crimson&quot;, &quot;fillOpacity&quot;: 0.2, &quot;fillRule&quot;: &quot;evenodd&quot;, &quot;lineCap&quot;: &quot;round&quot;, &quot;lineJoin&quot;: &quot;round&quot;, &quot;opacity&quot;: 1.0, &quot;radius&quot;: 600.0, &quot;stroke&quot;: true, &quot;weight&quot;: 3}\n",
       "            ).addTo(map_2b304aaf65e6c33449d6ad0ddbfaa178);\n",
       "        \n",
       "    \n",
       "            var circle_bf855972d862ed8aaa487f15dace33a1 = L.circle(\n",
       "                [31.95, 34.8],\n",
       "                {&quot;bubblingMouseEvents&quot;: true, &quot;color&quot;: &quot;crimson&quot;, &quot;dashArray&quot;: null, &quot;dashOffset&quot;: null, &quot;fill&quot;: true, &quot;fillColor&quot;: &quot;crimson&quot;, &quot;fillOpacity&quot;: 0.2, &quot;fillRule&quot;: &quot;evenodd&quot;, &quot;lineCap&quot;: &quot;round&quot;, &quot;lineJoin&quot;: &quot;round&quot;, &quot;opacity&quot;: 1.0, &quot;radius&quot;: 249.86, &quot;stroke&quot;: true, &quot;weight&quot;: 3}\n",
       "            ).addTo(map_2b304aaf65e6c33449d6ad0ddbfaa178);\n",
       "        \n",
       "    \n",
       "            var circle_5fd0c744919af666d32a0004cf21f527 = L.circle(\n",
       "                [32.0889, 34.8864],\n",
       "                {&quot;bubblingMouseEvents&quot;: true, &quot;color&quot;: &quot;crimson&quot;, &quot;dashArray&quot;: null, &quot;dashOffset&quot;: null, &quot;fill&quot;: true, &quot;fillColor&quot;: &quot;crimson&quot;, &quot;fillOpacity&quot;: 0.2, &quot;fillRule&quot;: &quot;evenodd&quot;, &quot;lineCap&quot;: &quot;round&quot;, &quot;lineJoin&quot;: &quot;round&quot;, &quot;opacity&quot;: 1.0, &quot;radius&quot;: 236.169, &quot;stroke&quot;: true, &quot;weight&quot;: 3}\n",
       "            ).addTo(map_2b304aaf65e6c33449d6ad0ddbfaa178);\n",
       "        \n",
       "    \n",
       "            var circle_bc2333cdd7a8bb91565c625d284d1385 = L.circle(\n",
       "                [31.8, 34.65],\n",
       "                {&quot;bubblingMouseEvents&quot;: true, &quot;color&quot;: &quot;crimson&quot;, &quot;dashArray&quot;: null, &quot;dashOffset&quot;: null, &quot;fill&quot;: true, &quot;fillColor&quot;: &quot;crimson&quot;, &quot;fillOpacity&quot;: 0.2, &quot;fillRule&quot;: &quot;evenodd&quot;, &quot;lineCap&quot;: &quot;round&quot;, &quot;lineJoin&quot;: &quot;round&quot;, &quot;opacity&quot;: 1.0, &quot;radius&quot;: 220.174, &quot;stroke&quot;: true, &quot;weight&quot;: 3}\n",
       "            ).addTo(map_2b304aaf65e6c33449d6ad0ddbfaa178);\n",
       "        \n",
       "    \n",
       "            var circle_d6c51b8456e8d0bb8026b05abf308607 = L.circle(\n",
       "                [32.3286, 34.8567],\n",
       "                {&quot;bubblingMouseEvents&quot;: true, &quot;color&quot;: &quot;crimson&quot;, &quot;dashArray&quot;: null, &quot;dashOffset&quot;: null, &quot;fill&quot;: true, &quot;fillColor&quot;: &quot;crimson&quot;, &quot;fillOpacity&quot;: 0.2, &quot;fillRule&quot;: &quot;evenodd&quot;, &quot;lineCap&quot;: &quot;round&quot;, &quot;lineJoin&quot;: &quot;round&quot;, &quot;opacity&quot;: 1.0, &quot;radius&quot;: 217.2, &quot;stroke&quot;: true, &quot;weight&quot;: 3}\n",
       "            ).addTo(map_2b304aaf65e6c33449d6ad0ddbfaa178);\n",
       "        \n",
       "    \n",
       "            var circle_90fa2308051a0bdd0ca1c35dbde8ffff = L.circle(\n",
       "                [31.2589, 34.7997],\n",
       "                {&quot;bubblingMouseEvents&quot;: true, &quot;color&quot;: &quot;crimson&quot;, &quot;dashArray&quot;: null, &quot;dashOffset&quot;: null, &quot;fill&quot;: true, &quot;fillColor&quot;: &quot;crimson&quot;, &quot;fillOpacity&quot;: 0.2, &quot;fillRule&quot;: &quot;evenodd&quot;, &quot;lineCap&quot;: &quot;round&quot;, &quot;lineJoin&quot;: &quot;round&quot;, &quot;opacity&quot;: 1.0, &quot;radius&quot;: 209.0, &quot;stroke&quot;: true, &quot;weight&quot;: 3}\n",
       "            ).addTo(map_2b304aaf65e6c33449d6ad0ddbfaa178);\n",
       "        \n",
       "    \n",
       "            var circle_f2b360670cfd654abb303ced5cd9ddd9 = L.circle(\n",
       "                [32.0167, 34.7667],\n",
       "                {&quot;bubblingMouseEvents&quot;: true, &quot;color&quot;: &quot;crimson&quot;, &quot;dashArray&quot;: null, &quot;dashOffset&quot;: null, &quot;fill&quot;: true, &quot;fillColor&quot;: &quot;crimson&quot;, &quot;fillOpacity&quot;: 0.2, &quot;fillRule&quot;: &quot;evenodd&quot;, &quot;lineCap&quot;: &quot;round&quot;, &quot;lineJoin&quot;: &quot;round&quot;, &quot;opacity&quot;: 1.0, &quot;radius&quot;: 194.3, &quot;stroke&quot;: true, &quot;weight&quot;: 3}\n",
       "            ).addTo(map_2b304aaf65e6c33449d6ad0ddbfaa178);\n",
       "        \n",
       "    \n",
       "            var circle_8c68cfa31c4c5d2f718e47bc1a2f5a82 = L.circle(\n",
       "                [32.0833, 34.8333],\n",
       "                {&quot;bubblingMouseEvents&quot;: true, &quot;color&quot;: &quot;crimson&quot;, &quot;dashArray&quot;: null, &quot;dashOffset&quot;: null, &quot;fill&quot;: true, &quot;fillColor&quot;: &quot;crimson&quot;, &quot;fillOpacity&quot;: 0.2, &quot;fillRule&quot;: &quot;evenodd&quot;, &quot;lineCap&quot;: &quot;round&quot;, &quot;lineJoin&quot;: &quot;round&quot;, &quot;opacity&quot;: 1.0, &quot;radius&quot;: 193.774, &quot;stroke&quot;: true, &quot;weight&quot;: 3}\n",
       "            ).addTo(map_2b304aaf65e6c33449d6ad0ddbfaa178);\n",
       "        \n",
       "    \n",
       "            var circle_f10c06d7723a3b1378bcba7d2893b5e7 = L.circle(\n",
       "                [32.07, 34.8236],\n",
       "                {&quot;bubblingMouseEvents&quot;: true, &quot;color&quot;: &quot;crimson&quot;, &quot;dashArray&quot;: null, &quot;dashOffset&quot;: null, &quot;fill&quot;: true, &quot;fillColor&quot;: &quot;crimson&quot;, &quot;fillOpacity&quot;: 0.2, &quot;fillRule&quot;: &quot;evenodd&quot;, &quot;lineCap&quot;: &quot;round&quot;, &quot;lineJoin&quot;: &quot;round&quot;, &quot;opacity&quot;: 1.0, &quot;radius&quot;: 159.2, &quot;stroke&quot;: true, &quot;weight&quot;: 3}\n",
       "            ).addTo(map_2b304aaf65e6c33449d6ad0ddbfaa178);\n",
       "        \n",
       "    \n",
       "            var circle_cababdda148108de7963aae7cac0ce4e = L.circle(\n",
       "                [31.6667, 34.5667],\n",
       "                {&quot;bubblingMouseEvents&quot;: true, &quot;color&quot;: &quot;crimson&quot;, &quot;dashArray&quot;: null, &quot;dashOffset&quot;: null, &quot;fill&quot;: true, &quot;fillColor&quot;: &quot;crimson&quot;, &quot;fillOpacity&quot;: 0.2, &quot;fillRule&quot;: &quot;evenodd&quot;, &quot;lineCap&quot;: &quot;round&quot;, &quot;lineJoin&quot;: &quot;round&quot;, &quot;opacity&quot;: 1.0, &quot;radius&quot;: 134.454, &quot;stroke&quot;: true, &quot;weight&quot;: 3}\n",
       "            ).addTo(map_2b304aaf65e6c33449d6ad0ddbfaa178);\n",
       "        \n",
       "    \n",
       "            var circle_66753b83aedeb441e09df45e04143c6e = L.circle(\n",
       "                [31.8969, 34.8167],\n",
       "                {&quot;bubblingMouseEvents&quot;: true, &quot;color&quot;: &quot;crimson&quot;, &quot;dashArray&quot;: null, &quot;dashOffset&quot;: null, &quot;fill&quot;: true, &quot;fillColor&quot;: &quot;crimson&quot;, &quot;fillOpacity&quot;: 0.2, &quot;fillRule&quot;: &quot;evenodd&quot;, &quot;lineCap&quot;: &quot;round&quot;, &quot;lineJoin&quot;: &quot;round&quot;, &quot;opacity&quot;: 1.0, &quot;radius&quot;: 132.671, &quot;stroke&quot;: true, &quot;weight&quot;: 3}\n",
       "            ).addTo(map_2b304aaf65e6c33449d6ad0ddbfaa178);\n",
       "        \n",
       "    \n",
       "            var circle_dc7c2d69138779ce556b2b87c4eecd37 = L.circle(\n",
       "                [32.0167, 34.75],\n",
       "                {&quot;bubblingMouseEvents&quot;: true, &quot;color&quot;: &quot;crimson&quot;, &quot;dashArray&quot;: null, &quot;dashOffset&quot;: null, &quot;fill&quot;: true, &quot;fillColor&quot;: &quot;crimson&quot;, &quot;fillOpacity&quot;: 0.2, &quot;fillRule&quot;: &quot;evenodd&quot;, &quot;lineCap&quot;: &quot;round&quot;, &quot;lineJoin&quot;: &quot;round&quot;, &quot;opacity&quot;: 1.0, &quot;radius&quot;: 128.8, &quot;stroke&quot;: true, &quot;weight&quot;: 3}\n",
       "            ).addTo(map_2b304aaf65e6c33449d6ad0ddbfaa178);\n",
       "        \n",
       "    \n",
       "            var circle_81295299c83d0ac5235863d870d26abe = L.circle(\n",
       "                [31.7456, 34.9867],\n",
       "                {&quot;bubblingMouseEvents&quot;: true, &quot;color&quot;: &quot;crimson&quot;, &quot;dashArray&quot;: null, &quot;dashOffset&quot;: null, &quot;fill&quot;: true, &quot;fillColor&quot;: &quot;crimson&quot;, &quot;fillOpacity&quot;: 0.2, &quot;fillRule&quot;: &quot;evenodd&quot;, &quot;lineCap&quot;: &quot;round&quot;, &quot;lineJoin&quot;: &quot;round&quot;, &quot;opacity&quot;: 1.0, &quot;radius&quot;: 118.7, &quot;stroke&quot;: true, &quot;weight&quot;: 3}\n",
       "            ).addTo(map_2b304aaf65e6c33449d6ad0ddbfaa178);\n",
       "        \n",
       "    \n",
       "            var circle_0ad843984ca2fbc8e7375d9c986497ba = L.circle(\n",
       "                [32.1714, 34.9083],\n",
       "                {&quot;bubblingMouseEvents&quot;: true, &quot;color&quot;: &quot;crimson&quot;, &quot;dashArray&quot;: null, &quot;dashOffset&quot;: null, &quot;fill&quot;: true, &quot;fillColor&quot;: &quot;crimson&quot;, &quot;fillOpacity&quot;: 0.2, &quot;fillRule&quot;: &quot;evenodd&quot;, &quot;lineCap&quot;: &quot;round&quot;, &quot;lineJoin&quot;: &quot;round&quot;, &quot;opacity&quot;: 1.0, &quot;radius&quot;: 100.8, &quot;stroke&quot;: true, &quot;weight&quot;: 3}\n",
       "            ).addTo(map_2b304aaf65e6c33449d6ad0ddbfaa178);\n",
       "        \n",
       "    \n",
       "            var circle_6f2fa285bf55242f75caec74e3a80792 = L.circle(\n",
       "                [31.9077, 35.0076],\n",
       "                {&quot;bubblingMouseEvents&quot;: true, &quot;color&quot;: &quot;crimson&quot;, &quot;dashArray&quot;: null, &quot;dashOffset&quot;: null, &quot;fill&quot;: true, &quot;fillColor&quot;: &quot;crimson&quot;, &quot;fillOpacity&quot;: 0.2, &quot;fillRule&quot;: &quot;evenodd&quot;, &quot;lineCap&quot;: &quot;round&quot;, &quot;lineJoin&quot;: &quot;round&quot;, &quot;opacity&quot;: 1.0, &quot;radius&quot;: 97.097, &quot;stroke&quot;: true, &quot;weight&quot;: 3}\n",
       "            ).addTo(map_2b304aaf65e6c33449d6ad0ddbfaa178);\n",
       "        \n",
       "    \n",
       "            var circle_25b37f6f87a840fc37a2d0a26dbbeb76 = L.circle(\n",
       "                [32.45, 34.9167],\n",
       "                {&quot;bubblingMouseEvents&quot;: true, &quot;color&quot;: &quot;crimson&quot;, &quot;dashArray&quot;: null, &quot;dashOffset&quot;: null, &quot;fill&quot;: true, &quot;fillColor&quot;: &quot;crimson&quot;, &quot;fillOpacity&quot;: 0.2, &quot;fillRule&quot;: &quot;evenodd&quot;, &quot;lineCap&quot;: &quot;round&quot;, &quot;lineJoin&quot;: &quot;round&quot;, &quot;opacity&quot;: 1.0, &quot;radius&quot;: 95.7, &quot;stroke&quot;: true, &quot;weight&quot;: 3}\n",
       "            ).addTo(map_2b304aaf65e6c33449d6ad0ddbfaa178);\n",
       "        \n",
       "    \n",
       "            var circle_456ff1c6a22642e4c98546b9e7b22b71 = L.circle(\n",
       "                [32.1653, 34.8458],\n",
       "                {&quot;bubblingMouseEvents&quot;: true, &quot;color&quot;: &quot;crimson&quot;, &quot;dashArray&quot;: null, &quot;dashOffset&quot;: null, &quot;fill&quot;: true, &quot;fillColor&quot;: &quot;crimson&quot;, &quot;fillOpacity&quot;: 0.2, &quot;fillRule&quot;: &quot;evenodd&quot;, &quot;lineCap&quot;: &quot;round&quot;, &quot;lineJoin&quot;: &quot;round&quot;, &quot;opacity&quot;: 1.0, &quot;radius&quot;: 93.989, &quot;stroke&quot;: true, &quot;weight&quot;: 3}\n",
       "            ).addTo(map_2b304aaf65e6c33449d6ad0ddbfaa178);\n",
       "        \n",
       "    \n",
       "            var circle_d39d7831c8c7d7669c638438662b80bf = L.circle(\n",
       "                [32.7019, 35.3033],\n",
       "                {&quot;bubblingMouseEvents&quot;: true, &quot;color&quot;: &quot;crimson&quot;, &quot;dashArray&quot;: null, &quot;dashOffset&quot;: null, &quot;fill&quot;: true, &quot;fillColor&quot;: &quot;crimson&quot;, &quot;fillOpacity&quot;: 0.2, &quot;fillRule&quot;: &quot;evenodd&quot;, &quot;lineCap&quot;: &quot;round&quot;, &quot;lineJoin&quot;: &quot;round&quot;, &quot;opacity&quot;: 1.0, &quot;radius&quot;: 83.4, &quot;stroke&quot;: true, &quot;weight&quot;: 3}\n",
       "            ).addTo(map_2b304aaf65e6c33449d6ad0ddbfaa178);\n",
       "        \n",
       "    \n",
       "            var circle_3e6129e288239f73ba4b0bdd48c29b8c = L.circle(\n",
       "                [31.9519, 34.8881],\n",
       "                {&quot;bubblingMouseEvents&quot;: true, &quot;color&quot;: &quot;crimson&quot;, &quot;dashArray&quot;: null, &quot;dashOffset&quot;: null, &quot;fill&quot;: true, &quot;fillColor&quot;: &quot;crimson&quot;, &quot;fillOpacity&quot;: 0.2, &quot;fillRule&quot;: &quot;evenodd&quot;, &quot;lineCap&quot;: &quot;round&quot;, &quot;lineJoin&quot;: &quot;round&quot;, &quot;opacity&quot;: 1.0, &quot;radius&quot;: 75.7, &quot;stroke&quot;: true, &quot;weight&quot;: 3}\n",
       "            ).addTo(map_2b304aaf65e6c33449d6ad0ddbfaa178);\n",
       "        \n",
       "    \n",
       "            var circle_1abfd14b7fee4f6bde35ee3ecbd4092b = L.circle(\n",
       "                [31.9275, 34.8625],\n",
       "                {&quot;bubblingMouseEvents&quot;: true, &quot;color&quot;: &quot;crimson&quot;, &quot;dashArray&quot;: null, &quot;dashOffset&quot;: null, &quot;fill&quot;: true, &quot;fillColor&quot;: &quot;crimson&quot;, &quot;fillOpacity&quot;: 0.2, &quot;fillRule&quot;: &quot;evenodd&quot;, &quot;lineCap&quot;: &quot;round&quot;, &quot;lineJoin&quot;: &quot;round&quot;, &quot;opacity&quot;: 1.0, &quot;radius&quot;: 75.5, &quot;stroke&quot;: true, &quot;weight&quot;: 3}\n",
       "            ).addTo(map_2b304aaf65e6c33449d6ad0ddbfaa178);\n",
       "        \n",
       "    \n",
       "            var circle_9ca0edefad86dea31d5aa467eb89baca = L.circle(\n",
       "                [32.1833, 34.8667],\n",
       "                {&quot;bubblingMouseEvents&quot;: true, &quot;color&quot;: &quot;crimson&quot;, &quot;dashArray&quot;: null, &quot;dashOffset&quot;: null, &quot;fill&quot;: true, &quot;fillColor&quot;: &quot;crimson&quot;, &quot;fillOpacity&quot;: 0.2, &quot;fillRule&quot;: &quot;evenodd&quot;, &quot;lineCap&quot;: &quot;round&quot;, &quot;lineJoin&quot;: &quot;round&quot;, &quot;opacity&quot;: 1.0, &quot;radius&quot;: 74.0, &quot;stroke&quot;: true, &quot;weight&quot;: 3}\n",
       "            ).addTo(map_2b304aaf65e6c33449d6ad0ddbfaa178);\n",
       "        \n",
       "    \n",
       "            var circle_49d6bacfd63c4c1985ba8aed2681591b = L.circle(\n",
       "                [31.6061, 34.7717],\n",
       "                {&quot;bubblingMouseEvents&quot;: true, &quot;color&quot;: &quot;crimson&quot;, &quot;dashArray&quot;: null, &quot;dashOffset&quot;: null, &quot;fill&quot;: true, &quot;fillColor&quot;: &quot;crimson&quot;, &quot;fillOpacity&quot;: 0.2, &quot;fillRule&quot;: &quot;evenodd&quot;, &quot;lineCap&quot;: &quot;round&quot;, &quot;lineJoin&quot;: &quot;round&quot;, &quot;opacity&quot;: 1.0, &quot;radius&quot;: 65.61, &quot;stroke&quot;: true, &quot;weight&quot;: 3}\n",
       "            ).addTo(map_2b304aaf65e6c33449d6ad0ddbfaa178);\n",
       "        \n",
       "    \n",
       "            var circle_c5f04f74d40e12dcc299b26688f750d0 = L.circle(\n",
       "                [31.3925, 34.7544],\n",
       "                {&quot;bubblingMouseEvents&quot;: true, &quot;color&quot;: &quot;crimson&quot;, &quot;dashArray&quot;: null, &quot;dashOffset&quot;: null, &quot;fill&quot;: true, &quot;fillColor&quot;: &quot;crimson&quot;, &quot;fillOpacity&quot;: 0.2, &quot;fillRule&quot;: &quot;evenodd&quot;, &quot;lineCap&quot;: &quot;round&quot;, &quot;lineJoin&quot;: &quot;round&quot;, &quot;opacity&quot;: 1.0, &quot;radius&quot;: 64.462, &quot;stroke&quot;: true, &quot;weight&quot;: 3}\n",
       "            ).addTo(map_2b304aaf65e6c33449d6ad0ddbfaa178);\n",
       "        \n",
       "    \n",
       "            var circle_8cc8c360f26ad40a84857546adcc6e8b = L.circle(\n",
       "                [33.0058, 35.0989],\n",
       "                {&quot;bubblingMouseEvents&quot;: true, &quot;color&quot;: &quot;crimson&quot;, &quot;dashArray&quot;: null, &quot;dashOffset&quot;: null, &quot;fill&quot;: true, &quot;fillColor&quot;: &quot;crimson&quot;, &quot;fillOpacity&quot;: 0.2, &quot;fillRule&quot;: &quot;evenodd&quot;, &quot;lineCap&quot;: &quot;round&quot;, &quot;lineJoin&quot;: &quot;round&quot;, &quot;opacity&quot;: 1.0, &quot;radius&quot;: 60.0, &quot;stroke&quot;: true, &quot;weight&quot;: 3}\n",
       "            ).addTo(map_2b304aaf65e6c33449d6ad0ddbfaa178);\n",
       "        \n",
       "    \n",
       "            var circle_bd455498d924dd18da90d49791062371 = L.circle(\n",
       "                [32.6064, 35.2881],\n",
       "                {&quot;bubblingMouseEvents&quot;: true, &quot;color&quot;: &quot;crimson&quot;, &quot;dashArray&quot;: null, &quot;dashOffset&quot;: null, &quot;fill&quot;: true, &quot;fillColor&quot;: &quot;crimson&quot;, &quot;fillOpacity&quot;: 0.2, &quot;fillRule&quot;: &quot;evenodd&quot;, &quot;lineCap&quot;: &quot;round&quot;, &quot;lineJoin&quot;: &quot;round&quot;, &quot;opacity&quot;: 1.0, &quot;radius&quot;: 60.0, &quot;stroke&quot;: true, &quot;weight&quot;: 3}\n",
       "            ).addTo(map_2b304aaf65e6c33449d6ad0ddbfaa178);\n",
       "        \n",
       "    \n",
       "            var circle_1da88bbc0c18fb316b22448ca1eac958 = L.circle(\n",
       "                [32.0714, 34.81],\n",
       "                {&quot;bubblingMouseEvents&quot;: true, &quot;color&quot;: &quot;crimson&quot;, &quot;dashArray&quot;: null, &quot;dashOffset&quot;: null, &quot;fill&quot;: true, &quot;fillColor&quot;: &quot;crimson&quot;, &quot;fillOpacity&quot;: 0.2, &quot;fillRule&quot;: &quot;evenodd&quot;, &quot;lineCap&quot;: &quot;round&quot;, &quot;lineJoin&quot;: &quot;round&quot;, &quot;opacity&quot;: 1.0, &quot;radius&quot;: 59.518, &quot;stroke&quot;: true, &quot;weight&quot;: 3}\n",
       "            ).addTo(map_2b304aaf65e6c33449d6ad0ddbfaa178);\n",
       "        \n",
       "    \n",
       "            var circle_90c66e7d23cab8c5668bb3e3cffd4023 = L.circle(\n",
       "                [32.15, 34.8833],\n",
       "                {&quot;bubblingMouseEvents&quot;: true, &quot;color&quot;: &quot;crimson&quot;, &quot;dashArray&quot;: null, &quot;dashOffset&quot;: null, &quot;fill&quot;: true, &quot;fillColor&quot;: &quot;crimson&quot;, &quot;fillOpacity&quot;: 0.2, &quot;fillRule&quot;: &quot;evenodd&quot;, &quot;lineCap&quot;: &quot;round&quot;, &quot;lineJoin&quot;: &quot;round&quot;, &quot;opacity&quot;: 1.0, &quot;radius&quot;: 56.659, &quot;stroke&quot;: true, &quot;weight&quot;: 3}\n",
       "            ).addTo(map_2b304aaf65e6c33449d6ad0ddbfaa178);\n",
       "        \n",
       "    \n",
       "            var circle_31eaff8036189d717202a9eb8938008e = L.circle(\n",
       "                [32.0956, 34.9567],\n",
       "                {&quot;bubblingMouseEvents&quot;: true, &quot;color&quot;: &quot;crimson&quot;, &quot;dashArray&quot;: null, &quot;dashOffset&quot;: null, &quot;fill&quot;: true, &quot;fillColor&quot;: &quot;crimson&quot;, &quot;fillOpacity&quot;: 0.2, &quot;fillRule&quot;: &quot;evenodd&quot;, &quot;lineCap&quot;: &quot;round&quot;, &quot;lineJoin&quot;: &quot;round&quot;, &quot;opacity&quot;: 1.0, &quot;radius&quot;: 56.3, &quot;stroke&quot;: true, &quot;weight&quot;: 3}\n",
       "            ).addTo(map_2b304aaf65e6c33449d6ad0ddbfaa178);\n",
       "        \n",
       "    \n",
       "            var circle_591c948c5d02b806301ec8afda958563 = L.circle(\n",
       "                [32.8, 35.1],\n",
       "                {&quot;bubblingMouseEvents&quot;: true, &quot;color&quot;: &quot;crimson&quot;, &quot;dashArray&quot;: null, &quot;dashOffset&quot;: null, &quot;fill&quot;: true, &quot;fillColor&quot;: &quot;crimson&quot;, &quot;fillOpacity&quot;: 0.2, &quot;fillRule&quot;: &quot;evenodd&quot;, &quot;lineCap&quot;: &quot;round&quot;, &quot;lineJoin&quot;: &quot;round&quot;, &quot;opacity&quot;: 1.0, &quot;radius&quot;: 55.464, &quot;stroke&quot;: true, &quot;weight&quot;: 3}\n",
       "            ).addTo(map_2b304aaf65e6c33449d6ad0ddbfaa178);\n",
       "        \n",
       "    \n",
       "            var circle_113f24383d94de3e8ed95f9399d446e5 = L.circle(\n",
       "                [32.5194, 35.1536],\n",
       "                {&quot;bubblingMouseEvents&quot;: true, &quot;color&quot;: &quot;crimson&quot;, &quot;dashArray&quot;: null, &quot;dashOffset&quot;: null, &quot;fill&quot;: true, &quot;fillColor&quot;: &quot;crimson&quot;, &quot;fillOpacity&quot;: 0.2, &quot;fillRule&quot;: &quot;evenodd&quot;, &quot;lineCap&quot;: &quot;round&quot;, &quot;lineJoin&quot;: &quot;round&quot;, &quot;opacity&quot;: 1.0, &quot;radius&quot;: 55.3, &quot;stroke&quot;: true, &quot;weight&quot;: 3}\n",
       "            ).addTo(map_2b304aaf65e6c33449d6ad0ddbfaa178);\n",
       "        \n",
       "    \n",
       "            var circle_273f3ae01b4366323b0d85bd1f489e0b = L.circle(\n",
       "                [29.5569, 34.9517],\n",
       "                {&quot;bubblingMouseEvents&quot;: true, &quot;color&quot;: &quot;crimson&quot;, &quot;dashArray&quot;: null, &quot;dashOffset&quot;: null, &quot;fill&quot;: true, &quot;fillColor&quot;: &quot;crimson&quot;, &quot;fillOpacity&quot;: 0.2, &quot;fillRule&quot;: &quot;evenodd&quot;, &quot;lineCap&quot;: &quot;round&quot;, &quot;lineJoin&quot;: &quot;round&quot;, &quot;opacity&quot;: 1.0, &quot;radius&quot;: 51.935, &quot;stroke&quot;: true, &quot;weight&quot;: 3}\n",
       "            ).addTo(map_2b304aaf65e6c33449d6ad0ddbfaa178);\n",
       "        \n",
       "    \n",
       "            var circle_7f4c4f599d477fc0e606b2c48402f33a = L.circle(\n",
       "                [31.9333, 34.8],\n",
       "                {&quot;bubblingMouseEvents&quot;: true, &quot;color&quot;: &quot;crimson&quot;, &quot;dashArray&quot;: null, &quot;dashOffset&quot;: null, &quot;fill&quot;: true, &quot;fillColor&quot;: &quot;crimson&quot;, &quot;fillOpacity&quot;: 0.2, &quot;fillRule&quot;: &quot;evenodd&quot;, &quot;lineCap&quot;: &quot;round&quot;, &quot;lineJoin&quot;: &quot;round&quot;, &quot;opacity&quot;: 1.0, &quot;radius&quot;: 50.2, &quot;stroke&quot;: true, &quot;weight&quot;: 3}\n",
       "            ).addTo(map_2b304aaf65e6c33449d6ad0ddbfaa178);\n",
       "        \n",
       "    \n",
       "            var circle_38a001182350a80e8fa89f0d3d6e5e9d = L.circle(\n",
       "                [32.9278, 35.0817],\n",
       "                {&quot;bubblingMouseEvents&quot;: true, &quot;color&quot;: &quot;crimson&quot;, &quot;dashArray&quot;: null, &quot;dashOffset&quot;: null, &quot;fill&quot;: true, &quot;fillColor&quot;: &quot;crimson&quot;, &quot;fillOpacity&quot;: 0.2, &quot;fillRule&quot;: &quot;evenodd&quot;, &quot;lineCap&quot;: &quot;round&quot;, &quot;lineJoin&quot;: &quot;round&quot;, &quot;opacity&quot;: 1.0, &quot;radius&quot;: 48.9, &quot;stroke&quot;: true, &quot;weight&quot;: 3}\n",
       "            ).addTo(map_2b304aaf65e6c33449d6ad0ddbfaa178);\n",
       "        \n",
       "    \n",
       "            var circle_4f1b51bcd9464ec735ade4e21eb72509 = L.circle(\n",
       "                [32.0522, 34.9511],\n",
       "                {&quot;bubblingMouseEvents&quot;: true, &quot;color&quot;: &quot;crimson&quot;, &quot;dashArray&quot;: null, &quot;dashOffset&quot;: null, &quot;fill&quot;: true, &quot;fillColor&quot;: &quot;crimson&quot;, &quot;fillOpacity&quot;: 0.2, &quot;fillRule&quot;: &quot;evenodd&quot;, &quot;lineCap&quot;: &quot;round&quot;, &quot;lineJoin&quot;: &quot;round&quot;, &quot;opacity&quot;: 1.0, &quot;radius&quot;: 48.763, &quot;stroke&quot;: true, &quot;weight&quot;: 3}\n",
       "            ).addTo(map_2b304aaf65e6c33449d6ad0ddbfaa178);\n",
       "        \n",
       "    \n",
       "            var circle_c7127307f82986dfd0192cafe2b522f0 = L.circle(\n",
       "                [32.15, 34.8333],\n",
       "                {&quot;bubblingMouseEvents&quot;: true, &quot;color&quot;: &quot;crimson&quot;, &quot;dashArray&quot;: null, &quot;dashOffset&quot;: null, &quot;fill&quot;: true, &quot;fillColor&quot;: &quot;crimson&quot;, &quot;fillOpacity&quot;: 0.2, &quot;fillRule&quot;: &quot;evenodd&quot;, &quot;lineCap&quot;: &quot;round&quot;, &quot;lineJoin&quot;: &quot;round&quot;, &quot;opacity&quot;: 1.0, &quot;radius&quot;: 46.7, &quot;stroke&quot;: true, &quot;weight&quot;: 3}\n",
       "            ).addTo(map_2b304aaf65e6c33449d6ad0ddbfaa178);\n",
       "        \n",
       "    \n",
       "            var circle_0487745e69af7401caff5489f01331b5 = L.circle(\n",
       "                [32.9136, 35.2961],\n",
       "                {&quot;bubblingMouseEvents&quot;: true, &quot;color&quot;: &quot;crimson&quot;, &quot;dashArray&quot;: null, &quot;dashOffset&quot;: null, &quot;fill&quot;: true, &quot;fillColor&quot;: &quot;crimson&quot;, &quot;fillOpacity&quot;: 0.2, &quot;fillRule&quot;: &quot;evenodd&quot;, &quot;lineCap&quot;: &quot;round&quot;, &quot;lineJoin&quot;: &quot;round&quot;, &quot;opacity&quot;: 1.0, &quot;radius&quot;: 45.3, &quot;stroke&quot;: true, &quot;weight&quot;: 3}\n",
       "            ).addTo(map_2b304aaf65e6c33449d6ad0ddbfaa178);\n",
       "        \n",
       "    \n",
       "            var circle_68bb9b79859bba62d50172d73b07fb30 = L.circle(\n",
       "                [32.7944, 35.5333],\n",
       "                {&quot;bubblingMouseEvents&quot;: true, &quot;color&quot;: &quot;crimson&quot;, &quot;dashArray&quot;: null, &quot;dashOffset&quot;: null, &quot;fill&quot;: true, &quot;fillColor&quot;: &quot;crimson&quot;, &quot;fillOpacity&quot;: 0.2, &quot;fillRule&quot;: &quot;evenodd&quot;, &quot;lineCap&quot;: &quot;round&quot;, &quot;lineJoin&quot;: &quot;round&quot;, &quot;opacity&quot;: 1.0, &quot;radius&quot;: 44.2, &quot;stroke&quot;: true, &quot;weight&quot;: 3}\n",
       "            ).addTo(map_2b304aaf65e6c33449d6ad0ddbfaa178);\n",
       "        \n",
       "    \n",
       "            var circle_d04d6f507245d9004cbf6c5a7cb70ad0 = L.circle(\n",
       "                [32.2667, 35.0103],\n",
       "                {&quot;bubblingMouseEvents&quot;: true, &quot;color&quot;: &quot;crimson&quot;, &quot;dashArray&quot;: null, &quot;dashOffset&quot;: null, &quot;fill&quot;: true, &quot;fillColor&quot;: &quot;crimson&quot;, &quot;fillOpacity&quot;: 0.2, &quot;fillRule&quot;: &quot;evenodd&quot;, &quot;lineCap&quot;: &quot;round&quot;, &quot;lineJoin&quot;: &quot;round&quot;, &quot;opacity&quot;: 1.0, &quot;radius&quot;: 43.1, &quot;stroke&quot;: true, &quot;weight&quot;: 3}\n",
       "            ).addTo(map_2b304aaf65e6c33449d6ad0ddbfaa178);\n",
       "        \n",
       "    \n",
       "            var circle_506745a7af5ad4525a11030218a2ede7 = L.circle(\n",
       "                [31.8558, 34.73],\n",
       "                {&quot;bubblingMouseEvents&quot;: true, &quot;color&quot;: &quot;crimson&quot;, &quot;dashArray&quot;: null, &quot;dashOffset&quot;: null, &quot;fill&quot;: true, &quot;fillColor&quot;: &quot;crimson&quot;, &quot;fillOpacity&quot;: 0.2, &quot;fillRule&quot;: &quot;evenodd&quot;, &quot;lineCap&quot;: &quot;round&quot;, &quot;lineJoin&quot;: &quot;round&quot;, &quot;opacity&quot;: 1.0, &quot;radius&quot;: 42.314, &quot;stroke&quot;: true, &quot;weight&quot;: 3}\n",
       "            ).addTo(map_2b304aaf65e6c33449d6ad0ddbfaa178);\n",
       "        \n",
       "    \n",
       "            var circle_7f3694823a8f8ba0f4bdbe3e39cc595a = L.circle(\n",
       "                [32.4711, 34.9675],\n",
       "                {&quot;bubblingMouseEvents&quot;: true, &quot;color&quot;: &quot;crimson&quot;, &quot;dashArray&quot;: null, &quot;dashOffset&quot;: null, &quot;fill&quot;: true, &quot;fillColor&quot;: &quot;crimson&quot;, &quot;fillOpacity&quot;: 0.2, &quot;fillRule&quot;: &quot;evenodd&quot;, &quot;lineCap&quot;: &quot;round&quot;, &quot;lineJoin&quot;: &quot;round&quot;, &quot;opacity&quot;: 1.0, &quot;radius&quot;: 42.1, &quot;stroke&quot;: true, &quot;weight&quot;: 3}\n",
       "            ).addTo(map_2b304aaf65e6c33449d6ad0ddbfaa178);\n",
       "        \n",
       "    \n",
       "            var circle_4a77977bb688a953393b9ec8fe7061a6 = L.circle(\n",
       "                [32.8333, 35.0833],\n",
       "                {&quot;bubblingMouseEvents&quot;: true, &quot;color&quot;: &quot;crimson&quot;, &quot;dashArray&quot;: null, &quot;dashOffset&quot;: null, &quot;fill&quot;: true, &quot;fillColor&quot;: &quot;crimson&quot;, &quot;fillOpacity&quot;: 0.2, &quot;fillRule&quot;: &quot;evenodd&quot;, &quot;lineCap&quot;: &quot;round&quot;, &quot;lineJoin&quot;: &quot;round&quot;, &quot;opacity&quot;: 1.0, &quot;radius&quot;: 42.0, &quot;stroke&quot;: true, &quot;weight&quot;: 3}\n",
       "            ).addTo(map_2b304aaf65e6c33449d6ad0ddbfaa178);\n",
       "        \n",
       "    \n",
       "            var circle_9626d1bd4cb51336d9bb48baad42cbbe = L.circle(\n",
       "                [32.0636, 34.8553],\n",
       "                {&quot;bubblingMouseEvents&quot;: true, &quot;color&quot;: &quot;crimson&quot;, &quot;dashArray&quot;: null, &quot;dashOffset&quot;: null, &quot;fill&quot;: true, &quot;fillColor&quot;: &quot;crimson&quot;, &quot;fillOpacity&quot;: 0.2, &quot;fillRule&quot;: &quot;evenodd&quot;, &quot;lineCap&quot;: &quot;round&quot;, &quot;lineJoin&quot;: &quot;round&quot;, &quot;opacity&quot;: 1.0, &quot;radius&quot;: 41.9, &quot;stroke&quot;: true, &quot;weight&quot;: 3}\n",
       "            ).addTo(map_2b304aaf65e6c33449d6ad0ddbfaa178);\n",
       "        \n",
       "    \n",
       "            var circle_4d2d25be7b3251f1afb5722222499e24 = L.circle(\n",
       "                [32.8056, 35.1694],\n",
       "                {&quot;bubblingMouseEvents&quot;: true, &quot;color&quot;: &quot;crimson&quot;, &quot;dashArray&quot;: null, &quot;dashOffset&quot;: null, &quot;fill&quot;: true, &quot;fillColor&quot;: &quot;crimson&quot;, &quot;fillOpacity&quot;: 0.2, &quot;fillRule&quot;: &quot;evenodd&quot;, &quot;lineCap&quot;: &quot;round&quot;, &quot;lineJoin&quot;: &quot;round&quot;, &quot;opacity&quot;: 1.0, &quot;radius&quot;: 41.6, &quot;stroke&quot;: true, &quot;weight&quot;: 3}\n",
       "            ).addTo(map_2b304aaf65e6c33449d6ad0ddbfaa178);\n",
       "        \n",
       "    \n",
       "            var circle_380e2886dd6ebb0f773e3b81886c6f32 = L.circle(\n",
       "                [32.8333, 35.0833],\n",
       "                {&quot;bubblingMouseEvents&quot;: true, &quot;color&quot;: &quot;crimson&quot;, &quot;dashArray&quot;: null, &quot;dashOffset&quot;: null, &quot;fill&quot;: true, &quot;fillColor&quot;: &quot;crimson&quot;, &quot;fillOpacity&quot;: 0.2, &quot;fillRule&quot;: &quot;evenodd&quot;, &quot;lineCap&quot;: &quot;round&quot;, &quot;lineJoin&quot;: &quot;round&quot;, &quot;opacity&quot;: 1.0, &quot;radius&quot;: 39.9, &quot;stroke&quot;: true, &quot;weight&quot;: 3}\n",
       "            ).addTo(map_2b304aaf65e6c33449d6ad0ddbfaa178);\n",
       "        \n",
       "    \n",
       "            var circle_af89881e9267da697974832a5b49a51a = L.circle(\n",
       "                [32.8333, 35.0667],\n",
       "                {&quot;bubblingMouseEvents&quot;: true, &quot;color&quot;: &quot;crimson&quot;, &quot;dashArray&quot;: null, &quot;dashOffset&quot;: null, &quot;fill&quot;: true, &quot;fillColor&quot;: &quot;crimson&quot;, &quot;fillOpacity&quot;: 0.2, &quot;fillRule&quot;: &quot;evenodd&quot;, &quot;lineCap&quot;: &quot;round&quot;, &quot;lineJoin&quot;: &quot;round&quot;, &quot;opacity&quot;: 1.0, &quot;radius&quot;: 39.416, &quot;stroke&quot;: true, &quot;weight&quot;: 3}\n",
       "            ).addTo(map_2b304aaf65e6c33449d6ad0ddbfaa178);\n",
       "        \n",
       "    \n",
       "            var circle_6a401888c37266fadb08ac9993770f90 = L.circle(\n",
       "                [32.0306, 34.8533],\n",
       "                {&quot;bubblingMouseEvents&quot;: true, &quot;color&quot;: &quot;crimson&quot;, &quot;dashArray&quot;: null, &quot;dashOffset&quot;: null, &quot;fill&quot;: true, &quot;fillColor&quot;: &quot;crimson&quot;, &quot;fillOpacity&quot;: 0.2, &quot;fillRule&quot;: &quot;evenodd&quot;, &quot;lineCap&quot;: &quot;round&quot;, &quot;lineJoin&quot;: &quot;round&quot;, &quot;opacity&quot;: 1.0, &quot;radius&quot;: 36.706, &quot;stroke&quot;: true, &quot;weight&quot;: 3}\n",
       "            ).addTo(map_2b304aaf65e6c33449d6ad0ddbfaa178);\n",
       "        \n",
       "    \n",
       "            var circle_3a2b2d10ea7c408b44965ec553f06aaa = L.circle(\n",
       "                [32.9658, 35.4983],\n",
       "                {&quot;bubblingMouseEvents&quot;: true, &quot;color&quot;: &quot;crimson&quot;, &quot;dashArray&quot;: null, &quot;dashOffset&quot;: null, &quot;fill&quot;: true, &quot;fillColor&quot;: &quot;crimson&quot;, &quot;fillOpacity&quot;: 0.2, &quot;fillRule&quot;: &quot;evenodd&quot;, &quot;lineCap&quot;: &quot;round&quot;, &quot;lineJoin&quot;: &quot;round&quot;, &quot;opacity&quot;: 1.0, &quot;radius&quot;: 35.7, &quot;stroke&quot;: true, &quot;weight&quot;: 3}\n",
       "            ).addTo(map_2b304aaf65e6c33449d6ad0ddbfaa178);\n",
       "        \n",
       "    \n",
       "            var circle_64356e4f310fd1150150726f91ae7a17 = L.circle(\n",
       "                [31.0667, 35.0333],\n",
       "                {&quot;bubblingMouseEvents&quot;: true, &quot;color&quot;: &quot;crimson&quot;, &quot;dashArray&quot;: null, &quot;dashOffset&quot;: null, &quot;fill&quot;: true, &quot;fillColor&quot;: &quot;crimson&quot;, &quot;fillOpacity&quot;: 0.2, &quot;fillRule&quot;: &quot;evenodd&quot;, &quot;lineCap&quot;: &quot;round&quot;, &quot;lineJoin&quot;: &quot;round&quot;, &quot;opacity&quot;: 1.0, &quot;radius&quot;: 34.135, &quot;stroke&quot;: true, &quot;weight&quot;: 3}\n",
       "            ).addTo(map_2b304aaf65e6c33449d6ad0ddbfaa178);\n",
       "        \n",
       "    \n",
       "            var circle_bbe6f57333f3ad5234e53bdbb07b9dbf = L.circle(\n",
       "                [32.8536, 35.1978],\n",
       "                {&quot;bubblingMouseEvents&quot;: true, &quot;color&quot;: &quot;crimson&quot;, &quot;dashArray&quot;: null, &quot;dashOffset&quot;: null, &quot;fill&quot;: true, &quot;fillColor&quot;: &quot;crimson&quot;, &quot;fillOpacity&quot;: 0.2, &quot;fillRule&quot;: &quot;evenodd&quot;, &quot;lineCap&quot;: &quot;round&quot;, &quot;lineJoin&quot;: &quot;round&quot;, &quot;opacity&quot;: 1.0, &quot;radius&quot;: 34.0, &quot;stroke&quot;: true, &quot;weight&quot;: 3}\n",
       "            ).addTo(map_2b304aaf65e6c33449d6ad0ddbfaa178);\n",
       "        \n",
       "    \n",
       "            var circle_15a26791e2c90f267d22a2f6c84b5866 = L.circle(\n",
       "                [31.4167, 34.5833],\n",
       "                {&quot;bubblingMouseEvents&quot;: true, &quot;color&quot;: &quot;crimson&quot;, &quot;dashArray&quot;: null, &quot;dashOffset&quot;: null, &quot;fill&quot;: true, &quot;fillColor&quot;: &quot;crimson&quot;, &quot;fillOpacity&quot;: 0.2, &quot;fillRule&quot;: &quot;evenodd&quot;, &quot;lineCap&quot;: &quot;round&quot;, &quot;lineJoin&quot;: &quot;round&quot;, &quot;opacity&quot;: 1.0, &quot;radius&quot;: 31.314, &quot;stroke&quot;: true, &quot;weight&quot;: 3}\n",
       "            ).addTo(map_2b304aaf65e6c33449d6ad0ddbfaa178);\n",
       "        \n",
       "    \n",
       "            var circle_741c759a5c1b1788540a354929fddb68 = L.circle(\n",
       "                [32.8667, 35.3],\n",
       "                {&quot;bubblingMouseEvents&quot;: true, &quot;color&quot;: &quot;crimson&quot;, &quot;dashArray&quot;: null, &quot;dashOffset&quot;: null, &quot;fill&quot;: true, &quot;fillColor&quot;: &quot;crimson&quot;, &quot;fillOpacity&quot;: 0.2, &quot;fillRule&quot;: &quot;evenodd&quot;, &quot;lineCap&quot;: &quot;round&quot;, &quot;lineJoin&quot;: &quot;round&quot;, &quot;opacity&quot;: 1.0, &quot;radius&quot;: 31.1, &quot;stroke&quot;: true, &quot;weight&quot;: 3}\n",
       "            ).addTo(map_2b304aaf65e6c33449d6ad0ddbfaa178);\n",
       "        \n",
       "    \n",
       "            var circle_437805f3c93714d3f35b2b26fe9973e4 = L.circle(\n",
       "                [31.9425, 34.8336],\n",
       "                {&quot;bubblingMouseEvents&quot;: true, &quot;color&quot;: &quot;crimson&quot;, &quot;dashArray&quot;: null, &quot;dashOffset&quot;: null, &quot;fill&quot;: true, &quot;fillColor&quot;: &quot;crimson&quot;, &quot;fillOpacity&quot;: 0.2, &quot;fillRule&quot;: &quot;evenodd&quot;, &quot;lineCap&quot;: &quot;round&quot;, &quot;lineJoin&quot;: &quot;round&quot;, &quot;opacity&quot;: 1.0, &quot;radius&quot;: 29.852, &quot;stroke&quot;: true, &quot;weight&quot;: 3}\n",
       "            ).addTo(map_2b304aaf65e6c33449d6ad0ddbfaa178);\n",
       "        \n",
       "    \n",
       "            var circle_7151b44f77d6d141dbf915a4f77dba74 = L.circle(\n",
       "                [32.0333, 34.8833],\n",
       "                {&quot;bubblingMouseEvents&quot;: true, &quot;color&quot;: &quot;crimson&quot;, &quot;dashArray&quot;: null, &quot;dashOffset&quot;: null, &quot;fill&quot;: true, &quot;fillColor&quot;: &quot;crimson&quot;, &quot;fillOpacity&quot;: 0.2, &quot;fillRule&quot;: &quot;evenodd&quot;, &quot;lineCap&quot;: &quot;round&quot;, &quot;lineJoin&quot;: &quot;round&quot;, &quot;opacity&quot;: 1.0, &quot;radius&quot;: 29.146, &quot;stroke&quot;: true, &quot;weight&quot;: 3}\n",
       "            ).addTo(map_2b304aaf65e6c33449d6ad0ddbfaa178);\n",
       "        \n",
       "    \n",
       "            var circle_584a7b91494162148697a84a6ee4b155 = L.circle(\n",
       "                [31.3167, 34.6167],\n",
       "                {&quot;bubblingMouseEvents&quot;: true, &quot;color&quot;: &quot;crimson&quot;, &quot;dashArray&quot;: null, &quot;dashOffset&quot;: null, &quot;fill&quot;: true, &quot;fillColor&quot;: &quot;crimson&quot;, &quot;fillOpacity&quot;: 0.2, &quot;fillRule&quot;: &quot;evenodd&quot;, &quot;lineCap&quot;: &quot;round&quot;, &quot;lineJoin&quot;: &quot;round&quot;, &quot;opacity&quot;: 1.0, &quot;radius&quot;: 29.0, &quot;stroke&quot;: true, &quot;weight&quot;: 3}\n",
       "            ).addTo(map_2b304aaf65e6c33449d6ad0ddbfaa178);\n",
       "        \n",
       "    \n",
       "            var circle_8f874a8205081bbf809b75fba58e8a1f = L.circle(\n",
       "                [32.3171, 34.9358],\n",
       "                {&quot;bubblingMouseEvents&quot;: true, &quot;color&quot;: &quot;crimson&quot;, &quot;dashArray&quot;: null, &quot;dashOffset&quot;: null, &quot;fill&quot;: true, &quot;fillColor&quot;: &quot;crimson&quot;, &quot;fillOpacity&quot;: 0.2, &quot;fillRule&quot;: &quot;evenodd&quot;, &quot;lineCap&quot;: &quot;round&quot;, &quot;lineJoin&quot;: &quot;round&quot;, &quot;opacity&quot;: 1.0, &quot;radius&quot;: 28.025, &quot;stroke&quot;: true, &quot;weight&quot;: 3}\n",
       "            ).addTo(map_2b304aaf65e6c33449d6ad0ddbfaa178);\n",
       "        \n",
       "&lt;/script&gt;\n",
       "&lt;/html&gt;\" style=\"position:absolute;width:100%;height:100%;left:0;top:0;border:none !important;\" allowfullscreen webkitallowfullscreen mozallowfullscreen></iframe></div></div>"
      ]
     },
     "execution_count": 13,
     "metadata": {},
     "output_type": "execute_result"
    }
   ],
   "execution_count": 13
  },
  {
   "metadata": {
    "ExecuteTime": {
     "end_time": "2025-01-06T12:28:41.856565Z",
     "start_time": "2025-01-06T12:28:41.839922Z"
    }
   },
   "cell_type": "code",
   "source": [
    "# Output the map to a file\n",
    "m.save('map.html')\n",
    "    \n",
    "\n"
   ],
   "id": "cf75d6e0e29b2044",
   "outputs": [],
   "execution_count": 24
  },
  {
   "metadata": {
    "ExecuteTime": {
     "end_time": "2025-01-06T09:13:28.628828Z",
     "start_time": "2025-01-06T09:13:27.742013Z"
    }
   },
   "cell_type": "code",
   "source": [
    "# exploratory data analysis\n",
    "import matplotlib.pyplot as plt\n",
    "df['population'].hist(bins=30)\n",
    "plt.show()\n",
    "\n",
    "\n",
    " "
   ],
   "id": "739c6f837e31f883",
   "outputs": [
    {
     "data": {
      "text/plain": [
       "<Figure size 640x480 with 1 Axes>"
      ],
      "image/png": "[encoded data removed]"
     },
     "metadata": {},
     "output_type": "display_data"
    }
   ],
   "execution_count": 15
  },
  {
   "metadata": {
    "ExecuteTime": {
     "end_time": "2025-01-06T09:14:14.076046Z",
     "start_time": "2025-01-06T09:14:14.073585Z"
    }
   },
   "cell_type": "code",
   "source": [
    "# how many cities are there in the data\n",
    "df['city'].nunique()\n"
   ],
   "id": "f8c6aa0e490ac140",
   "outputs": [
    {
     "data": {
      "text/plain": [
       "57"
      ]
     },
     "execution_count": 16,
     "metadata": {},
     "output_type": "execute_result"
    }
   ],
   "execution_count": 16
  },
  {
   "metadata": {
    "ExecuteTime": {
     "end_time": "2025-01-06T09:14:29.897442Z",
     "start_time": "2025-01-06T09:14:29.889902Z"
    }
   },
   "cell_type": "code",
   "source": [
    "# sort the cities by population\n",
    "df = df.sort_values(by='population', ascending=False)\n",
    "df.head()"
   ],
   "id": "8dde004614ff5882",
   "outputs": [
    {
     "data": {
      "text/plain": [
       "              city      lat      lng country iso2 admin_name  population  \\\n",
       "0    Tel Aviv-Yafo  32.0800  34.7800  Israel   IL   Tel Aviv   1388400.0   \n",
       "1        Jerusalem  31.7789  35.2256  Israel   IL  Jerusalem    936425.0   \n",
       "2            Haifa  32.8192  34.9992  Israel   IL      Haifa    600000.0   \n",
       "3  Rishon LeẔiyyon  31.9500  34.8000  Israel   IL    Central    249860.0   \n",
       "4      Petaẖ Tiqwa  32.0889  34.8864  Israel   IL    Central    236169.0   \n",
       "\n",
       "   population_proper  \n",
       "0           460613.0  \n",
       "1           936425.0  \n",
       "2           282831.0  \n",
       "3           249860.0  \n",
       "4           236169.0  "
      ],
      "text/html": [
       "<div>\n",
       "<style scoped>\n",
       "    .dataframe tbody tr th:only-of-type {\n",
       "        vertical-align: middle;\n",
       "    }\n",
       "\n",
       "    .dataframe tbody tr th {\n",
       "        vertical-align: top;\n",
       "    }\n",
       "\n",
       "    .dataframe thead th {\n",
       "        text-align: right;\n",
       "    }\n",
       "</style>\n",
       "<table border=\"1\" class=\"dataframe\">\n",
       "  <thead>\n",
       "    <tr style=\"text-align: right;\">\n",
       "      <th></th>\n",
       "      <th>city</th>\n",
       "      <th>lat</th>\n",
       "      <th>lng</th>\n",
       "      <th>country</th>\n",
       "      <th>iso2</th>\n",
       "      <th>admin_name</th>\n",
       "      <th>population</th>\n",
       "      <th>population_proper</th>\n",
       "    </tr>\n",
       "  </thead>\n",
       "  <tbody>\n",
       "    <tr>\n",
       "      <th>0</th>\n",
       "      <td>Tel Aviv-Yafo</td>\n",
       "      <td>32.0800</td>\n",
       "      <td>34.7800</td>\n",
       "      <td>Israel</td>\n",
       "      <td>IL</td>\n",
       "      <td>Tel Aviv</td>\n",
       "      <td>1388400.0</td>\n",
       "      <td>460613.0</td>\n",
       "    </tr>\n",
       "    <tr>\n",
       "      <th>1</th>\n",
       "      <td>Jerusalem</td>\n",
       "      <td>31.7789</td>\n",
       "      <td>35.2256</td>\n",
       "      <td>Israel</td>\n",
       "      <td>IL</td>\n",
       "      <td>Jerusalem</td>\n",
       "      <td>936425.0</td>\n",
       "      <td>936425.0</td>\n",
       "    </tr>\n",
       "    <tr>\n",
       "      <th>2</th>\n",
       "      <td>Haifa</td>\n",
       "      <td>32.8192</td>\n",
       "      <td>34.9992</td>\n",
       "      <td>Israel</td>\n",
       "      <td>IL</td>\n",
       "      <td>Haifa</td>\n",
       "      <td>600000.0</td>\n",
       "      <td>282831.0</td>\n",
       "    </tr>\n",
       "    <tr>\n",
       "      <th>3</th>\n",
       "      <td>Rishon LeẔiyyon</td>\n",
       "      <td>31.9500</td>\n",
       "      <td>34.8000</td>\n",
       "      <td>Israel</td>\n",
       "      <td>IL</td>\n",
       "      <td>Central</td>\n",
       "      <td>249860.0</td>\n",
       "      <td>249860.0</td>\n",
       "    </tr>\n",
       "    <tr>\n",
       "      <th>4</th>\n",
       "      <td>Petaẖ Tiqwa</td>\n",
       "      <td>32.0889</td>\n",
       "      <td>34.8864</td>\n",
       "      <td>Israel</td>\n",
       "      <td>IL</td>\n",
       "      <td>Central</td>\n",
       "      <td>236169.0</td>\n",
       "      <td>236169.0</td>\n",
       "    </tr>\n",
       "  </tbody>\n",
       "</table>\n",
       "</div>"
      ]
     },
     "execution_count": 17,
     "metadata": {},
     "output_type": "execute_result"
    }
   ],
   "execution_count": 17
  },
  {
   "metadata": {
    "ExecuteTime": {
     "end_time": "2025-01-06T09:15:55.902086Z",
     "start_time": "2025-01-06T09:15:55.897715Z"
    }
   },
   "cell_type": "code",
   "source": [
    "# What is the percent of population in the top 3 cities\n",
    "top3 = df.iloc[:3]['population'].sum()\n",
    "total = df['population'].sum()\n",
    "top3 / total * 100\n"
   ],
   "id": "c1b6d6950206fe4d",
   "outputs": [
    {
     "data": {
      "text/plain": [
       "np.float64(39.869848848108184)"
      ]
     },
     "execution_count": 19,
     "metadata": {},
     "output_type": "execute_result"
    }
   ],
   "execution_count": 19
  },
  {
   "metadata": {
    "ExecuteTime": {
     "end_time": "2025-01-06T09:17:15.487718Z",
     "start_time": "2025-01-06T09:17:15.465931Z"
    }
   },
   "cell_type": "code",
   "source": [
    "# Which cities are 50 km from Tel Aviv\n",
    "from geopy.distance import geodesic\n",
    "tel_aviv = (32.0853, 34.7818)\n",
    "cities = []\n",
    "for i in range(len(df)):\n",
    "    city = (df.iloc[i]['lat'], df.iloc[i]['lng'])\n",
    "    if geodesic(tel_aviv, city).km < 50:\n",
    "        cities.append(df.iloc[i]['city'])\n",
    "cities\n"
   ],
   "id": "f9abf17a286352f5",
   "outputs": [
    {
     "data": {
      "text/plain": [
       "['Tel Aviv-Yafo',\n",
       " 'Rishon LeẔiyyon',\n",
       " 'Petaẖ Tiqwa',\n",
       " 'Ashdod',\n",
       " 'Netanya',\n",
       " 'Holon',\n",
       " 'Bené Beraq',\n",
       " 'Ramat Gan',\n",
       " 'Reẖovot',\n",
       " 'Bat Yam',\n",
       " 'Bet Shemesh',\n",
       " 'Kefar Sava',\n",
       " 'Modi‘in Makkabbim Re‘ut',\n",
       " 'Hadera',\n",
       " 'Herẕliyya',\n",
       " 'Lod',\n",
       " 'Ramla',\n",
       " 'Ra‘ananna',\n",
       " 'Givatayim',\n",
       " 'Hod HaSharon',\n",
       " 'Rosh Ha‘Ayin',\n",
       " 'Nes Ẕiyyona',\n",
       " 'El‘ad',\n",
       " 'Ramat HaSharon',\n",
       " 'Eṭ Ṭaiyiba',\n",
       " 'Ben Zakkay',\n",
       " 'Pardés H̱anna Karkur',\n",
       " 'Qiryat Ono',\n",
       " 'Or Yehuda',\n",
       " 'Be’er Ya‘aqov',\n",
       " 'Yehud',\n",
       " 'Kefar Yona']"
      ]
     },
     "execution_count": 21,
     "metadata": {},
     "output_type": "execute_result"
    }
   ],
   "execution_count": 21
  },
  {
   "metadata": {
    "ExecuteTime": {
     "end_time": "2025-01-06T09:18:10.586960Z",
     "start_time": "2025-01-06T09:18:10.574582Z"
    }
   },
   "cell_type": "code",
   "source": [
    "# Which percentage of the population is in cities 50 km from Tel Aviv\n",
    "pop = 0\n",
    "for i in range(len(df)):\n",
    "    city = (df.iloc[i]['lat'], df.iloc[i]['lng'])\n",
    "    if geodesic(tel_aviv, city).km < 50:\n",
    "        pop += df.iloc[i]['population']\n",
    "pop / total * 100\n"
   ],
   "id": "24f00f555dd0aff7",
   "outputs": [
    {
     "data": {
      "text/plain": [
       "np.float64(60.84185349591572)"
      ]
     },
     "execution_count": 22,
     "metadata": {},
     "output_type": "execute_result"
    }
   ],
   "execution_count": 22
  },
  {
   "metadata": {},
   "cell_type": "markdown",
   "source": [
    "# Summary\n",
    "In this lesson we learned how to use AI to write code.\n",
    "We got data\n",
    "We cleaned the data\n",
    "We plotted the data on a map\n",
    "We did exploratory data analysis\n",
    "We calculated some statistics\n",
    "We answered some questions\n"
   ],
   "id": "6e974e988ed7901b"
  }
 ],
 "metadata": {
  "kernelspec": {
   "display_name": "Python 3",
   "language": "python",
   "name": "python3"
  },
  "language_info": {
   "codemirror_mode": {
    "name": "ipython",
    "version": 2
   },
   "file_extension": ".py",
   "mimetype": "text/x-python",
   "name": "python",
   "nbconvert_exporter": "python",
   "pygments_lexer": "ipython2",
   "version": "2.7.6"
  }
 },
 "nbformat": 4,
 "nbformat_minor": 5
}
